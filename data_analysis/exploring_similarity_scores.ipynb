{
 "cells": [
  {
   "cell_type": "markdown",
   "id": "edba5ac7",
   "metadata": {},
   "source": [
    "# exploring clip and vgg similarity scores\n"
   ]
  },
  {
   "cell_type": "code",
   "execution_count": 6,
   "id": "c0f97afe",
   "metadata": {},
   "outputs": [],
   "source": [
    "import pandas as pd\n",
    "from pathlib import Path"
   ]
  },
  {
   "cell_type": "code",
   "execution_count": 16,
   "id": "1bd55390",
   "metadata": {},
   "outputs": [],
   "source": [
    "csvs_path =  Path('csvs')\n"
   ]
  },
  {
   "cell_type": "code",
   "execution_count": 18,
   "id": "ac451d6c",
   "metadata": {},
   "outputs": [],
   "source": [
    "df = pd.read_csv(csvs_path / 'improving_descriptions_step_by_step_with_clip.csv')"
   ]
  },
  {
   "cell_type": "code",
   "execution_count": null,
   "id": "0de42d62",
   "metadata": {},
   "outputs": [],
   "source": []
  }
 ],
 "metadata": {
  "kernelspec": {
   "display_name": "venv",
   "language": "python",
   "name": "python3"
  },
  "language_info": {
   "codemirror_mode": {
    "name": "ipython",
    "version": 3
   },
   "file_extension": ".py",
   "mimetype": "text/x-python",
   "name": "python",
   "nbconvert_exporter": "python",
   "pygments_lexer": "ipython3",
   "version": "3.13.2"
  }
 },
 "nbformat": 4,
 "nbformat_minor": 5
}
