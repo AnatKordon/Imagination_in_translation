{
 "cells": [
  {
   "cell_type": "code",
   "execution_count": 1,
   "id": "602c838d",
   "metadata": {},
   "outputs": [],
   "source": [
    "import pandas as pd\n",
    "import numpy as np\n"
   ]
  },
  {
   "cell_type": "code",
   "execution_count": 22,
   "id": "0262a5aa",
   "metadata": {},
   "outputs": [],
   "source": [
    "df = pd.read_csv(\"/mnt/hdd/anatkorol/Imagination_in_translation/Data/processed_data/08092025_pilot/participants_log_with_gpt_with_distances_and_len_pilot_08092025_.csv\")\n",
    "df = df[['uid', 'gt', 'session', 'attempt', 'prompt', 'gen', 'subjective_score','clip_cosine_distance', 'vgg_fc7_distance','prompt_length']]\n",
    "df_ppt = df[df['uid'] != 'gpt-5']\n",
    "df_gpt = df[df['uid'] == 'gpt-5']"
   ]
  },
  {
   "cell_type": "code",
   "execution_count": 24,
   "id": "ba0e8bdb",
   "metadata": {},
   "outputs": [
    {
     "data": {
      "text/html": [
       "<div>\n",
       "<style scoped>\n",
       "    .dataframe tbody tr th:only-of-type {\n",
       "        vertical-align: middle;\n",
       "    }\n",
       "\n",
       "    .dataframe tbody tr th {\n",
       "        vertical-align: top;\n",
       "    }\n",
       "\n",
       "    .dataframe thead th {\n",
       "        text-align: right;\n",
       "    }\n",
       "</style>\n",
       "<table border=\"1\" class=\"dataframe\">\n",
       "  <thead>\n",
       "    <tr style=\"text-align: right;\">\n",
       "      <th></th>\n",
       "      <th>uid</th>\n",
       "      <th>gt</th>\n",
       "      <th>session</th>\n",
       "      <th>attempt</th>\n",
       "      <th>prompt</th>\n",
       "      <th>gen</th>\n",
       "      <th>subjective_score</th>\n",
       "      <th>clip_cosine_distance</th>\n",
       "      <th>vgg_fc7_distance</th>\n",
       "      <th>prompt_length</th>\n",
       "    </tr>\n",
       "  </thead>\n",
       "  <tbody>\n",
       "    <tr>\n",
       "      <th>0</th>\n",
       "      <td>00aeccd632c742d48a9ffe94da201493</td>\n",
       "      <td>farm_h.jpg</td>\n",
       "      <td>1</td>\n",
       "      <td>1</td>\n",
       "      <td>Hall</td>\n",
       "      <td>00aeccd632c742d48a9ffe94da201493_session01_att...</td>\n",
       "      <td>13.0</td>\n",
       "      <td>0.561354</td>\n",
       "      <td>0.796981</td>\n",
       "      <td>4</td>\n",
       "    </tr>\n",
       "    <tr>\n",
       "      <th>1</th>\n",
       "      <td>00aeccd632c742d48a9ffe94da201493</td>\n",
       "      <td>farm_h.jpg</td>\n",
       "      <td>1</td>\n",
       "      <td>2</td>\n",
       "      <td>Public meeting hall</td>\n",
       "      <td>00aeccd632c742d48a9ffe94da201493_session01_att...</td>\n",
       "      <td>64.0</td>\n",
       "      <td>0.453747</td>\n",
       "      <td>0.714026</td>\n",
       "      <td>19</td>\n",
       "    </tr>\n",
       "    <tr>\n",
       "      <th>2</th>\n",
       "      <td>00aeccd632c742d48a9ffe94da201493</td>\n",
       "      <td>farm_h.jpg</td>\n",
       "      <td>1</td>\n",
       "      <td>3</td>\n",
       "      <td>Public bathroom</td>\n",
       "      <td>00aeccd632c742d48a9ffe94da201493_session01_att...</td>\n",
       "      <td>88.0</td>\n",
       "      <td>0.445245</td>\n",
       "      <td>0.812723</td>\n",
       "      <td>15</td>\n",
       "    </tr>\n",
       "    <tr>\n",
       "      <th>3</th>\n",
       "      <td>00aeccd632c742d48a9ffe94da201493</td>\n",
       "      <td>fountain_l.jpg</td>\n",
       "      <td>2</td>\n",
       "      <td>1</td>\n",
       "      <td>water fountain</td>\n",
       "      <td>00aeccd632c742d48a9ffe94da201493_session02_att...</td>\n",
       "      <td>87.0</td>\n",
       "      <td>0.207650</td>\n",
       "      <td>0.365267</td>\n",
       "      <td>14</td>\n",
       "    </tr>\n",
       "    <tr>\n",
       "      <th>4</th>\n",
       "      <td>00aeccd632c742d48a9ffe94da201493</td>\n",
       "      <td>fountain_l.jpg</td>\n",
       "      <td>2</td>\n",
       "      <td>2</td>\n",
       "      <td>wishing well</td>\n",
       "      <td>00aeccd632c742d48a9ffe94da201493_session02_att...</td>\n",
       "      <td>60.0</td>\n",
       "      <td>0.171779</td>\n",
       "      <td>0.508487</td>\n",
       "      <td>12</td>\n",
       "    </tr>\n",
       "  </tbody>\n",
       "</table>\n",
       "</div>"
      ],
      "text/plain": [
       "                                uid              gt  session  attempt  \\\n",
       "0  00aeccd632c742d48a9ffe94da201493      farm_h.jpg        1        1   \n",
       "1  00aeccd632c742d48a9ffe94da201493      farm_h.jpg        1        2   \n",
       "2  00aeccd632c742d48a9ffe94da201493      farm_h.jpg        1        3   \n",
       "3  00aeccd632c742d48a9ffe94da201493  fountain_l.jpg        2        1   \n",
       "4  00aeccd632c742d48a9ffe94da201493  fountain_l.jpg        2        2   \n",
       "\n",
       "                prompt                                                gen  \\\n",
       "0                 Hall  00aeccd632c742d48a9ffe94da201493_session01_att...   \n",
       "1  Public meeting hall  00aeccd632c742d48a9ffe94da201493_session01_att...   \n",
       "2      Public bathroom  00aeccd632c742d48a9ffe94da201493_session01_att...   \n",
       "3       water fountain  00aeccd632c742d48a9ffe94da201493_session02_att...   \n",
       "4         wishing well  00aeccd632c742d48a9ffe94da201493_session02_att...   \n",
       "\n",
       "   subjective_score  clip_cosine_distance  vgg_fc7_distance  prompt_length  \n",
       "0              13.0              0.561354          0.796981              4  \n",
       "1              64.0              0.453747          0.714026             19  \n",
       "2              88.0              0.445245          0.812723             15  \n",
       "3              87.0              0.207650          0.365267             14  \n",
       "4              60.0              0.171779          0.508487             12  "
      ]
     },
     "execution_count": 24,
     "metadata": {},
     "output_type": "execute_result"
    }
   ],
   "source": [
    "df.head()"
   ]
  },
  {
   "cell_type": "markdown",
   "id": "1b2603cc",
   "metadata": {},
   "source": [
    "# Visualizing legnth of prompt by attempt"
   ]
  },
  {
   "cell_type": "code",
   "execution_count": null,
   "id": "ee2c8ed0",
   "metadata": {},
   "outputs": [],
   "source": []
  }
 ],
 "metadata": {
  "kernelspec": {
   "display_name": ".venv",
   "language": "python",
   "name": "python3"
  },
  "language_info": {
   "codemirror_mode": {
    "name": "ipython",
    "version": 3
   },
   "file_extension": ".py",
   "mimetype": "text/x-python",
   "name": "python",
   "nbconvert_exporter": "python",
   "pygments_lexer": "ipython3",
   "version": "3.12.3"
  }
 },
 "nbformat": 4,
 "nbformat_minor": 5
}
