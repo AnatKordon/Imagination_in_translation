{
 "cells": [
  {
   "cell_type": "code",
   "execution_count": 5,
   "id": "602c838d",
   "metadata": {},
   "outputs": [],
   "source": [
    "import pandas as pd\n",
    "pd.set_option('display.max_colwidth', None)"
   ]
  },
  {
   "cell_type": "code",
   "execution_count": 6,
   "id": "0262a5aa",
   "metadata": {},
   "outputs": [],
   "source": [
    "df = pd.read_csv(\"/mnt/hdd/anatkorol/Imagination_in_translation/image_descriptions.csv\")"
   ]
  },
  {
   "cell_type": "code",
   "execution_count": 9,
   "id": "883174f3",
   "metadata": {},
   "outputs": [],
   "source": [
    "desc_df = df[['image', 'description']]"
   ]
  },
  {
   "cell_type": "code",
   "execution_count": 10,
   "id": "28cd9c41",
   "metadata": {},
   "outputs": [],
   "source": [
    "desc_df.to_csv(\"image_descriptions_only.csv\", index=False)"
   ]
  },
  {
   "cell_type": "code",
   "execution_count": null,
   "id": "794ec567",
   "metadata": {},
   "outputs": [],
   "source": []
  }
 ],
 "metadata": {
  "kernelspec": {
   "display_name": ".venv",
   "language": "python",
   "name": "python3"
  },
  "language_info": {
   "codemirror_mode": {
    "name": "ipython",
    "version": 3
   },
   "file_extension": ".py",
   "mimetype": "text/x-python",
   "name": "python",
   "nbconvert_exporter": "python",
   "pygments_lexer": "ipython3",
   "version": "3.12.3"
  }
 },
 "nbformat": 4,
 "nbformat_minor": 5
}
